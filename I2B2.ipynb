{
 "cells": [
  {
   "cell_type": "code",
   "execution_count": 40,
   "metadata": {},
   "outputs": [],
   "source": [
    "import os\n",
    "import numpy as np\n",
    "from pathlib import Path\n",
    "import json"
   ]
  },
  {
   "cell_type": "code",
   "execution_count": 13,
   "metadata": {},
   "outputs": [
    {
     "name": "stdout",
     "output_type": "stream",
     "text": [
      "1176\n",
      "1653\n"
     ]
    }
   ],
   "source": [
    "# all files which end in .rel in this folder\n",
    "label_dir='/home/max/data/artifacts/i2b2/2010/hd_data/'\n",
    "\n",
    "def load_files(folder):\n",
    "  return [os.path.join(label_dir, folder, f) for f in os.listdir(os.path.join(label_dir, folder)) if os.path.isfile(os.path.join(label_dir, folder, f))]\n",
    "files = load_files('random')\n",
    "print(len(files))\n",
    "files += load_files('test')\n",
    "print(len(files))"
   ]
  },
  {
   "cell_type": "code",
   "execution_count": 17,
   "metadata": {},
   "outputs": [],
   "source": [
    "class Concept:\n",
    "  def __init__(self, line):\n",
    "    span_info, type_info, attr_info = line.strip().split('||')\n",
    "    fields = span_info.split(' ')\n",
    "    start, end = fields[-2], fields[-1]\n",
    "    start = start.split(':')\n",
    "    end = end.split(':')\n",
    "    assert start[0] == end[0], print(span_info)\n",
    "    self.sentence_idx = int(start[0]) - 1\n",
    "    self.start = int(start[1])\n",
    "    self.end = int(end[1])\n",
    "    self.type = type_info.strip()[3:-1]\n",
    "    self.assertion = attr_info.strip()[3:-1]\n",
    "\n",
    "  def __eq__(self, other):\n",
    "    return self.sentence_idx == other.sentence_idx and \\\n",
    "           self.start == other.start and \\\n",
    "           self.end == other.end and \\\n",
    "           self.type == other.type and \\\n",
    "           self.assertion == other.assertion\n",
    "\n",
    "  def __hash__(self):\n",
    "    return hash((self.sentence_idx, self.start, self.end, self.type, self.assertion))\n",
    "\n",
    "  def __str__(self):\n",
    "    return f\"[sid: {self.sentence_idx}, ({self.start}, {self.end}), type={self.type}, assertion={self.assertion}]\""
   ]
  },
  {
   "cell_type": "code",
   "execution_count": 38,
   "metadata": {},
   "outputs": [
    {
     "name": "stdout",
     "output_type": "stream",
     "text": [
      "29238\n"
     ]
    }
   ],
   "source": [
    "def get_concepts(txtfile):\n",
    "  txtfile = Path(txtfile)\n",
    "  name = txtfile.name.replace('.txt', '')\n",
    "  confile = os.path.join(label_dir, 'all', (name + '.con'))\n",
    "  astfile = os.path.join(label_dir, 'all', (name + '.ast'))\n",
    "  relfile = os.path.join(label_dir, 'all', (name + '.rel'))\n",
    "  if not os.path.exists(confile):\n",
    "    return []\n",
    "  problems = [Concept(line) for line in open(astfile)]\n",
    "  other_concepts = [Concept(line.strip() + '||a=\"present\"') for line in open(confile)]\n",
    "  concepts = problems + [c for c in other_concepts if c.type != \"problem\"]\n",
    "  sentences = [[w for w in line.strip().split(' ') if len(w.strip()) > 0]\n",
    "                 for s, line in enumerate(open(str(txtfile)))]\n",
    "  concept_text = []\n",
    "  for concept in concepts:\n",
    "    txt = ' '.join(sentences[concept.sentence_idx][concept.start:concept.end+1])\n",
    "    concept_text.append(txt)\n",
    "  return concept_text\n",
    "\n",
    "ctxt2id = {}\n",
    "for file in files:\n",
    "  for ctxt in get_concepts(file):\n",
    "    if ctxt not in ctxt2id:\n",
    "      ctxt2id[ctxt] = len(ctxt2id)\n",
    "print(len(ctxt2id))"
   ]
  },
  {
   "cell_type": "code",
   "execution_count": 42,
   "metadata": {},
   "outputs": [],
   "source": [
    "with open(os.path.join(label_dir, 'ctxt2id'), 'w') as f:\n",
    "  json.dump(ctxt2id, f)"
   ]
  },
  {
   "cell_type": "code",
   "execution_count": null,
   "metadata": {},
   "outputs": [],
   "source": []
  }
 ],
 "metadata": {
  "kernelspec": {
   "display_name": "Python 3",
   "language": "python",
   "name": "python3"
  },
  "language_info": {
   "codemirror_mode": {
    "name": "ipython",
    "version": 3
   },
   "file_extension": ".py",
   "mimetype": "text/x-python",
   "name": "python",
   "nbconvert_exporter": "python",
   "pygments_lexer": "ipython3",
   "version": "3.7.4"
  }
 },
 "nbformat": 4,
 "nbformat_minor": 2
}
