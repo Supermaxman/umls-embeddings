{
 "cells": [
  {
   "cell_type": "code",
   "execution_count": 1,
   "metadata": {},
   "outputs": [],
   "source": [
    "import numpy as np\n",
    "import json\n",
    "import os\n"
   ]
  },
  {
   "cell_type": "code",
   "execution_count": 2,
   "metadata": {},
   "outputs": [],
   "source": [
    "def mrr(ranks_np):\n",
    "  return float(np.mean(1. / ranks_np))\n",
    "\n",
    "\n",
    "def mr(ranks_np):\n",
    "  return float(np.mean(ranks_np))\n",
    "\n",
    "\n",
    "def hits_at_10(ranks_np):\n",
    "  return float(len(ranks_np[ranks_np <= 10])) / len(ranks_np)"
   ]
  },
  {
   "cell_type": "code",
   "execution_count": 3,
   "metadata": {},
   "outputs": [],
   "source": [
    "def load_ranks(ranks_name):\n",
    "  with open(os.path.join(outdir, f'{ranks_name}.json'), 'r') as f:\n",
    "    rank_lookup = json.load(f)\n",
    "    ranks = np.array([x[0] for x in rank_lookup.values()])\n",
    "  return rank_lookup, ranks"
   ]
  },
  {
   "cell_type": "code",
   "execution_count": 4,
   "metadata": {},
   "outputs": [],
   "source": [
    "def calc_stats(ranks):\n",
    "  r_mrr = mrr(ranks)\n",
    "  r_h10 = hits_at_10(ranks)\n",
    "  print(f'mrr={r_mrr:.4f}, h@10={r_h10:.4f}')"
   ]
  },
  {
   "cell_type": "code",
   "execution_count": 5,
   "metadata": {},
   "outputs": [],
   "source": [
    "eval_dir = '/users/max/data/artifacts/umls-embeddings'\n",
    "run_name = 'transd-dm-disgen-ace-7'\n",
    "outdir = os.path.join(eval_dir, run_name)"
   ]
  },
  {
   "cell_type": "code",
   "execution_count": 6,
   "metadata": {},
   "outputs": [],
   "source": [
    "subj_rank_lookup, s_ranks = load_ranks('subj_ranks')"
   ]
  },
  {
   "cell_type": "code",
   "execution_count": 12,
   "metadata": {},
   "outputs": [
    {
     "name": "stdout",
     "output_type": "stream",
     "text": [
      "subj stats:\n",
      "100000\n",
      "15397.52759\n",
      "mrr=0.0862, h@10=0.1344\n"
     ]
    }
   ],
   "source": [
    "print('subj stats:')\n",
    "print(len(subj_rank_lookup))\n",
    "print(np.mean(s_ranks))\n",
    "calc_stats(s_ranks)"
   ]
  },
  {
   "cell_type": "code",
   "execution_count": null,
   "metadata": {},
   "outputs": [],
   "source": [
    "obj_rank_lookup, o_ranks = load_ranks('obj_ranks')"
   ]
  },
  {
   "cell_type": "code",
   "execution_count": null,
   "metadata": {},
   "outputs": [],
   "source": [
    "print('obj stats:')\n",
    "calc_stats(o_ranks)"
   ]
  },
  {
   "cell_type": "code",
   "execution_count": 13,
   "metadata": {},
   "outputs": [
    {
     "data": {
      "text/plain": [
       "(30, 100, 25)"
      ]
     },
     "execution_count": 13,
     "metadata": {},
     "output_type": "execute_result"
    }
   ],
   "source": [
    "x = np.zeros((1, 100, 1))\n",
    "y = np.zeros((30, 1, 25))\n",
    "(x * y).shape"
   ]
  },
  {
   "cell_type": "code",
   "execution_count": null,
   "metadata": {},
   "outputs": [],
   "source": []
  }
 ],
 "metadata": {
  "kernelspec": {
   "display_name": "Python 3",
   "language": "python",
   "name": "python3"
  },
  "language_info": {
   "codemirror_mode": {
    "name": "ipython",
    "version": 3
   },
   "file_extension": ".py",
   "mimetype": "text/x-python",
   "name": "python",
   "nbconvert_exporter": "python",
   "pygments_lexer": "ipython3",
   "version": "3.7.4"
  }
 },
 "nbformat": 4,
 "nbformat_minor": 2
}
