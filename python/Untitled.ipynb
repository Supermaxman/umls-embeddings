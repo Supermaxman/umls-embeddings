{
 "cells": [
  {
   "cell_type": "code",
   "execution_count": 13,
   "metadata": {},
   "outputs": [],
   "source": [
    "import numpy as np\n",
    "import json\n",
    "import random\n",
    "import os\n",
    "import math\n",
    "from tqdm import tqdm\n",
    "from collections import Counter\n",
    "import matplotlib.pyplot as plt\n",
    "%matplotlib inline"
   ]
  },
  {
   "cell_type": "code",
   "execution_count": 2,
   "metadata": {},
   "outputs": [],
   "source": [
    "seed = 1337\n",
    "random.seed(seed)\n",
    "np.random.seed(seed)"
   ]
  },
  {
   "cell_type": "code",
   "execution_count": 3,
   "metadata": {},
   "outputs": [],
   "source": [
    "import eukg.data.data_util as data_util\n"
   ]
  },
  {
   "cell_type": "code",
   "execution_count": 4,
   "metadata": {},
   "outputs": [],
   "source": [
    "data_dir = '/users/max/data/artifacts/umls-embeddings'"
   ]
  },
  {
   "cell_type": "code",
   "execution_count": 52,
   "metadata": {},
   "outputs": [],
   "source": [
    "cui2id, data, train_idx, val_idx = data_util.load_metathesaurus_data(data_dir, val_proportion=0.1)\n",
    "test_data = data_util.load_metathesaurus_test_data(data_dir)"
   ]
  },
  {
   "cell_type": "code",
   "execution_count": 6,
   "metadata": {},
   "outputs": [],
   "source": [
    "t_data = data_util.load_metathesaurus_token_data(data_dir)"
   ]
  },
  {
   "cell_type": "code",
   "execution_count": 8,
   "metadata": {},
   "outputs": [],
   "source": [
    "train_subj = data['subj'][train_idx]\n",
    "train_rel = data['rel'][train_idx]\n",
    "train_obj = data['obj'][train_idx]"
   ]
  },
  {
   "cell_type": "code",
   "execution_count": 14,
   "metadata": {},
   "outputs": [
    {
     "name": "stderr",
     "output_type": "stream",
     "text": [
      "100%|██████████| 7777930/7777930 [00:17<00:00, 446225.25it/s]\n"
     ]
    }
   ],
   "source": [
    "subj_l = Counter()\n",
    "obj_l = Counter()\n",
    "for subj, rel, obj in tqdm(zip(train_subj, train_rel, train_obj), total=len(train_subj)):\n",
    "  subj_l[(subj, rel)] += 1\n",
    "  obj_l[(obj, rel)] += 1"
   ]
  },
  {
   "cell_type": "code",
   "execution_count": 47,
   "metadata": {},
   "outputs": [],
   "source": [
    "def hist(counter):\n",
    "  values = np.array([int(x) for x in counter.values()])\n",
    "  min_count = np.min(values)\n",
    "  max_count = np.max(values)\n",
    "  avg_count = np.mean(values)\n",
    "  percentile = np.percentile(values, 99)\n",
    "  print(f'min={min_count}, max={max_count}, mean={avg_count:.2f}, 99th-percentile={percentile:.2f}')\n",
    "  plt.hist(values[values <= percentile])\n",
    "  plt.show()"
   ]
  },
  {
   "cell_type": "code",
   "execution_count": 48,
   "metadata": {},
   "outputs": [
    {
     "name": "stdout",
     "output_type": "stream",
     "text": [
      "min=1, max=73226, mean=4.15, 99th-percentile=38.00\n"
     ]
    },
    {
     "data": {
      "image/png": "[encoded data removed]",
      "text/plain": [
       "<Figure size 432x288 with 1 Axes>"
      ]
     },
     "metadata": {
      "needs_background": "light"
     },
     "output_type": "display_data"
    }
   ],
   "source": [
    "hist(subj_l)"
   ]
  },
  {
   "cell_type": "code",
   "execution_count": 49,
   "metadata": {},
   "outputs": [
    {
     "name": "stdout",
     "output_type": "stream",
     "text": [
      "min=1, max=14946, mean=1.94, 99th-percentile=12.00\n"
     ]
    },
    {
     "data": {
      "image/png": "[encoded data removed]",
      "text/plain": [
       "<Figure size 432x288 with 1 Axes>"
      ]
     },
     "metadata": {
      "needs_background": "light"
     },
     "output_type": "display_data"
    }
   ],
   "source": [
    "hist(obj_l)"
   ]
  },
  {
   "cell_type": "code",
   "execution_count": 53,
   "metadata": {},
   "outputs": [],
   "source": [
    "total_objs = np.unique(np.concatenate([data['obj'], test_data['obj']]))\n",
    "total_subj = np.unique(np.concatenate([data['subj'], test_data['subj']]))\n",
    "total_rels = np.unique(np.concatenate([data['rel'], test_data['rel']]))\n",
    "obj_count = len(total_objs)\n",
    "subj_count = len(total_subj)\n",
    "rel_count = len(total_rels)"
   ]
  },
  {
   "cell_type": "code",
   "execution_count": 59,
   "metadata": {},
   "outputs": [],
   "source": [
    "id2cui = {i:c for c, i in cui2id.items()}"
   ]
  },
  {
   "cell_type": "code",
   "execution_count": 54,
   "metadata": {},
   "outputs": [
    {
     "name": "stdout",
     "output_type": "stream",
     "text": [
      "subjs=1019792, rels=342, objs=1473733\n"
     ]
    }
   ],
   "source": [
    "print(f'subjs={subj_count}, rels={rel_count}, objs={obj_count}')"
   ]
  },
  {
   "cell_type": "code",
   "execution_count": 60,
   "metadata": {},
   "outputs": [
    {
     "name": "stdout",
     "output_type": "stream",
     "text": [
      "C1442880, has_time_aspect: 73226\n",
      "C1442116, has_scale: 36922\n",
      "C0043047, has_inactive_ingredient: 21133\n",
      "C1442114, has_scale: 20822\n",
      "C0229671, has_system: 19082\n",
      "C0243095, has_property: 18362\n",
      "C3899741, concept_in_subset: 18015\n",
      "C1880104, concept_in_subset: 17523\n",
      "C0993159, has_dose_form: 17250\n",
      "C1879948, concept_in_subset: 15412\n"
     ]
    }
   ],
   "source": [
    "for (subj, rel), obj_c in subj_l.most_common(10):\n",
    "  print(f'{id2cui[subj]}, {id2cui[rel]}: {obj_c}')"
   ]
  },
  {
   "cell_type": "code",
   "execution_count": 62,
   "metadata": {},
   "outputs": [
    {
     "name": "stdout",
     "output_type": "stream",
     "text": [
      "C0016658, classifies: 14946\n",
      "C0810139, classifies: 8143\n",
      "C1444713, subject_relationship_context_of: 6398\n",
      "C1542178, classifies: 6171\n",
      "C0178316, classifies: 6036\n",
      "C0810203, classifies: 3823\n",
      "C0042776, component_of: 3382\n",
      "C0020852, component_of: 3331\n",
      "C0810204, classifies: 3267\n",
      "C0332798, classifies: 3232\n"
     ]
    }
   ],
   "source": [
    "for (obj, rel), subj_c in obj_l.most_common(10):\n",
    "  print(f'{id2cui[obj]}, {id2cui[rel]}: {subj_c}')"
   ]
  },
  {
   "cell_type": "code",
   "execution_count": 66,
   "metadata": {},
   "outputs": [
    {
     "name": "stdout",
     "output_type": "stream",
     "text": [
      "0.028160\n"
     ]
    }
   ],
   "source": [
    "max_rel_count = 4.15\n",
    "num_samples = 100\n",
    "b_size = 100\n",
    "\n",
    "p_correct = max_rel_count / obj_count\n",
    "\n",
    "p = p_correct * num_samples\n",
    "print(f'{p*100:.6f}')\n"
   ]
  },
  {
   "cell_type": "code",
   "execution_count": 67,
   "metadata": {},
   "outputs": [],
   "source": [
    "concept_count = len(\n",
    "      np.unique(\n",
    "        np.concatenate(\n",
    "          [data['obj'], test_data['obj'], data['subj'], test_data['subj']]\n",
    "        )\n",
    "      )\n",
    "    )"
   ]
  },
  {
   "cell_type": "code",
   "execution_count": 68,
   "metadata": {},
   "outputs": [
    {
     "name": "stdout",
     "output_type": "stream",
     "text": [
      "1563246\n",
      "1563587\n"
     ]
    }
   ],
   "source": [
    "print(concept_count)\n",
    "print(max(np.unique(\n",
    "        np.concatenate(\n",
    "          [data['obj'], test_data['obj'], data['subj'], test_data['subj']]\n",
    "        )\n",
    "      )))"
   ]
  },
  {
   "cell_type": "code",
   "execution_count": null,
   "metadata": {},
   "outputs": [],
   "source": []
  }
 ],
 "metadata": {
  "kernelspec": {
   "display_name": "Python 3",
   "language": "python",
   "name": "python3"
  },
  "language_info": {
   "codemirror_mode": {
    "name": "ipython",
    "version": 3
   },
   "file_extension": ".py",
   "mimetype": "text/x-python",
   "name": "python",
   "nbconvert_exporter": "python",
   "pygments_lexer": "ipython3",
   "version": "3.7.4"
  }
 },
 "nbformat": 4,
 "nbformat_minor": 2
}
