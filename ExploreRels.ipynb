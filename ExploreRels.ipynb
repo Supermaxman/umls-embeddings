{
 "cells": [
  {
   "cell_type": "code",
   "execution_count": 9,
   "metadata": {},
   "outputs": [
    {
     "name": "stdout",
     "output_type": "stream",
     "text": [
      "Using matplotlib backend: TkAgg\n"
     ]
    },
    {
     "ename": "ModuleNotFoundError",
     "evalue": "No module named 'python.pyumls'",
     "output_type": "error",
     "traceback": [
      "\u001b[0;31m---------------------------------------------------------------------------\u001b[0m",
      "\u001b[0;31mModuleNotFoundError\u001b[0m                       Traceback (most recent call last)",
      "\u001b[0;32m<ipython-input-9-df16ba3e736e>\u001b[0m in \u001b[0;36m<module>\u001b[0;34m\u001b[0m\n\u001b[1;32m      5\u001b[0m \u001b[0;32mimport\u001b[0m \u001b[0mnumpy\u001b[0m \u001b[0;32mas\u001b[0m \u001b[0mnp\u001b[0m\u001b[0;34m\u001b[0m\u001b[0;34m\u001b[0m\u001b[0m\n\u001b[1;32m      6\u001b[0m \u001b[0;32mfrom\u001b[0m \u001b[0mpathlib\u001b[0m \u001b[0;32mimport\u001b[0m \u001b[0mPath\u001b[0m\u001b[0;34m\u001b[0m\u001b[0;34m\u001b[0m\u001b[0m\n\u001b[0;32m----> 7\u001b[0;31m \u001b[0;32mfrom\u001b[0m \u001b[0mpython\u001b[0m\u001b[0;34m.\u001b[0m\u001b[0mpyumls\u001b[0m\u001b[0;34m.\u001b[0m\u001b[0mumls_reader\u001b[0m \u001b[0;32mimport\u001b[0m \u001b[0mread_umls\u001b[0m\u001b[0;34m\u001b[0m\u001b[0;34m\u001b[0m\u001b[0m\n\u001b[0m\u001b[1;32m      8\u001b[0m \u001b[0;32mimport\u001b[0m \u001b[0mpyumls\u001b[0m\u001b[0;34m.\u001b[0m\u001b[0mumls\u001b[0m \u001b[0;32mas\u001b[0m \u001b[0mumls\u001b[0m\u001b[0;34m\u001b[0m\u001b[0;34m\u001b[0m\u001b[0m\n\u001b[1;32m      9\u001b[0m \u001b[0;32mfrom\u001b[0m \u001b[0mcollections\u001b[0m \u001b[0;32mimport\u001b[0m \u001b[0mdefaultdict\u001b[0m\u001b[0;34m,\u001b[0m \u001b[0mCounter\u001b[0m\u001b[0;34m\u001b[0m\u001b[0;34m\u001b[0m\u001b[0m\n",
      "\u001b[0;31mModuleNotFoundError\u001b[0m: No module named 'python.pyumls'"
     ]
    }
   ],
   "source": [
    "%pwd\n",
    "%matplotlib\n",
    "import matplotlib.pyplot as plt\n",
    "import pandas as pd\n",
    "import numpy as np\n",
    "from pathlib import Path\n",
    "from python.pyumls.umls_reader import read_umls\n",
    "import pyumls.umls as umls\n",
    "from collections import defaultdict, Counter\n",
    "import itertools\n"
   ]
  },
  {
   "cell_type": "code",
   "execution_count": null,
   "metadata": {},
   "outputs": [],
   "source": [
    "#https://www.ncbi.nlm.nih.gov/books/NBK9685/\n",
    "umls_conso = Path(r'/shared/hltdir1/disk1/home/max/data/ontologies/umls_2019/2019AA-full/2019AA/META/MRCONSO.RRF')\n",
    "umls_def = Path(r'/shared/hltdir1/disk1/home/max/data/ontologies/umls_2019/2019AA-full/2019AA/META/MRDEF.RRF')\n",
    "umls_rels = Path(r'/shared/hltdir1/disk1/home/max/data/ontologies/umls_2019/2019AA-full/2019AA/META/MRREL.RRF')\n",
    "umls_hier = Path(r'/shared/hltdir1/disk1/home/max/data/ontologies/umls_2019/2019AA-full/2019AA/META/MRHIER.RRF')"
   ]
  },
  {
   "cell_type": "code",
   "execution_count": 3,
   "metadata": {},
   "outputs": [],
   "source": [
    "# https://www.nlm.nih.gov/research/umls/knowledge_sources/metathesaurus/release/abbreviations.html#STT\n",
    "languages = { 'ENG' }\n",
    "suppresses = { }\n",
    "# suppresses = { 'O' }\n",
    "tses = { 'P' }\n",
    "pfes = { 'PF' }\n",
    "isprefs = { 'Y' }\n",
    "\n",
    "def umls_atom_filter(x):\n",
    "  # filter out non-english atoms\n",
    "  if x.lat not in languages:\n",
    "    return False\n",
    "  # TODO determine best way to filter atoms out\n",
    "  # Ignore atoms with supress flag\n",
    "  if x.suppress in suppresses:\n",
    "    return False\n",
    "  # Ignore non-ts preferred atoms\n",
    "  if x.ts not in tses:\n",
    "    return False\n",
    "  # Ignore non-stt preferred atoms\n",
    "  if x.stt not in pfes:\n",
    "    return False\n",
    "  # Ignore non-ispref atoms\n",
    "  if x.ispref not in isprefs:\n",
    "    return False\n",
    "  return True\n",
    "\n",
    "umls_atoms = list(\n",
    "  read_umls(\n",
    "    umls_conso, \n",
    "    umls.UmlsAtom, \n",
    "    umls_filter=umls_atom_filter\n",
    "  )\n",
    ")\n",
    "len(umls_atoms)\n",
    "atoms_dict = defaultdict(list)\n",
    "for atom in umls_atoms:\n",
    "  atoms_dict[atom.cui].append(atom)"
   ]
  },
  {
   "cell_type": "code",
   "execution_count": 4,
   "metadata": {},
   "outputs": [
    {
     "name": "stdout",
     "output_type": "stream",
     "text": [
      "min: 1\n",
      "max: 1\n",
      "avg: 1.0\n",
      "3285966\n"
     ]
    }
   ],
   "source": [
    "counts = []\n",
    "for key, value in atoms_dict.items():\n",
    "  counts.append(len(value))\n",
    "print(f'min: {min(counts)}')\n",
    "print(f'max: {max(counts)}')\n",
    "print(f'avg: {np.mean(counts)}')\n",
    "print(len(atoms_dict))"
   ]
  },
  {
   "cell_type": "code",
   "execution_count": 5,
   "metadata": {},
   "outputs": [
    {
     "name": "stdout",
     "output_type": "stream",
     "text": [
      "min: 1\n",
      "max: 25\n",
      "avg: 1.3455248460547042\n",
      "209490\n"
     ]
    }
   ],
   "source": [
    "umls_defs = list(read_umls(umls_def, umls.UmlsDefinition))\n",
    "def_dict = defaultdict(list)\n",
    "for d in umls_defs:\n",
    "  def_dict[d.cui].append(d)\n",
    "counts = []\n",
    "for key, value in def_dict.items():\n",
    "  counts.append(len(value))\n",
    "print(f'min: {min(counts)}')\n",
    "print(f'max: {max(counts)}')\n",
    "print(f'avg: {np.mean(counts)}')\n",
    "print(len(def_dict))"
   ]
  },
  {
   "cell_type": "code",
   "execution_count": 6,
   "metadata": {},
   "outputs": [],
   "source": [
    "def wrap(s, w):\n",
    "    return [s[i:i + w] for i in range(0, len(s), w)]\n",
    "  \n",
    "def display_cui(cui):\n",
    "  c_atoms = atoms_dict[cui]\n",
    "  if len(c_atoms) > 0:\n",
    "    c_string = c_atoms[0].string\n",
    "    c_cui = c_atoms[0].cui\n",
    "  else:\n",
    "    c_string = 'UNKNOWN'\n",
    "    c_cui = cui\n",
    "  print(f'{c_string} ({c_cui})')\n",
    "  for definition in def_dict[c_cui]:\n",
    "    for w_str in wrap(definition.definition, 80):\n",
    "      print(f'  - {definition.sab}: {w_str}')\n",
    "    print()\n",
    "    \n",
    "def display_rel(rel):\n",
    "  display_cui(rel.cui2)\n",
    "  print()\n",
    "  print(f'{rel.rela} ({rel.rel})({rel.stype2}->{rel.stype1})({rel.sab})')\n",
    "  print()\n",
    "  display_cui(rel.cui1)\n",
    "  "
   ]
  },
  {
   "cell_type": "code",
   "execution_count": 71,
   "metadata": {},
   "outputs": [],
   "source": [
    "# keep_rels = {'RO'} # , 'RB', 'RN', 'RU'\n",
    "# skip_relas = {} #{'exhibited_by', 'measured_by', 'measures', 'exhibits'}\n",
    "# must_have_rela = True\n",
    "# must_have_def = True # def_dict[d.cui]\n",
    "# seen_relas = set()\n",
    "# def umls_rel_filter(x):\n",
    "#   # remove recursive relations\n",
    "#   if x.cui2 == x.cui1:\n",
    "#     return False\n",
    "#   if x.rel not in keep_rels:\n",
    "#     return False\n",
    "#   if not x.rela and must_have_rela:\n",
    "#     return False\n",
    "#   if x.rela in skip_relas:\n",
    "#     return False\n",
    "#   # looking for unique relas \n",
    "#   if x.rela in seen_relas:\n",
    "#     return False\n",
    "#   if must_have_def and (x.cui2 not in def_dict or x.cui1 not in def_dict):\n",
    "#     return False\n",
    "#   #seen_relas.add(x.rela)\n",
    "#   return True\n",
    "#   if x.rela in skip_relas:\n",
    "#     return False\n",
    "#   if x.rel in interesting_rels:\n",
    "#     if len(x.rela) > 0:\n",
    "#       return True\n",
    "#     else:\n",
    "#       return True\n",
    "#   if x.rela in interesting_relas:\n",
    "#     return True\n",
    "#   return False\n",
    "def umls_rel_filter(x):\n",
    "  if x.rel == 'CHD' and x.cui1 != x.cui2 and x.rela == 'has_parent':\n",
    "    return True\n",
    "  return False"
   ]
  },
  {
   "cell_type": "code",
   "execution_count": 72,
   "metadata": {},
   "outputs": [],
   "source": [
    "rel_iter = read_umls(\n",
    "  umls_rels, \n",
    "  umls.UmlsRelation, \n",
    "  umls_filter=umls_rel_filter\n",
    ")\n",
    "\n",
    "\n",
    "# rela_counter = Counter()\n",
    "# rela_examples = defaultdict(list)\n",
    "# example_count = 3\n",
    "# total_count = 0\n",
    "# for rel in rel_iter:\n",
    "#   rela_counter[rel.rela] += 1\n",
    "#   if len(rela_examples[rel.rela]) < 3:\n",
    "#     rela_examples[rel.rela].append(rel)\n",
    "#   total_count += 1\n",
    "\n",
    "# print(f'{total_count} rels match filter.')"
   ]
  },
  {
   "cell_type": "code",
   "execution_count": 73,
   "metadata": {
    "scrolled": false
   },
   "outputs": [
    {
     "name": "stdout",
     "output_type": "stream",
     "text": [
      "Bovine Intestinal Adenosine Deaminase [EPC] (C2266954)\n",
      "\n",
      "has_parent (CHD)(SCUI->SCUI)(MED-RT)\n",
      "\n",
      "ADENOSINE DEAMINASE (C0001457)\n",
      "  - MSH: An enzyme that catalyzes the hydrolysis of ADENOSINE to INOSINE with the elimina\n",
      "  - MSH: tion of AMMONIA.\n",
      "\n",
      "  - NCI: Adenosine deaminase (363 aa, ~41 kDa) is encoded by the human ADA gene. This pro\n",
      "  - NCI: tein plays a role in purine metabolism.\n",
      "\n"
     ]
    }
   ],
   "source": [
    "rel = next(rel_iter)\n",
    "display_rel(rel)"
   ]
  },
  {
   "cell_type": "code",
   "execution_count": null,
   "metadata": {
    "scrolled": false
   },
   "outputs": [],
   "source": [
    "top_n = 30\n",
    "top_n_skip = 0\n",
    "nrof_examples = 1\n",
    "for rela, rela_count in rela_counter.most_common(top_n)[top_n_skip:]:\n",
    "  print('===================================')\n",
    "  examples = rela_examples[rela]\n",
    "  print(f'{rela}: {rela_count}')\n",
    "  print('Examples:')\n",
    "  for example in examples[:nrof_examples]:\n",
    "    print('-----------------------------------')\n",
    "    display_rel(example)\n",
    "    print('-----------------------------------')\n",
    "  print('===================================')\n",
    "    "
   ]
  },
  {
   "cell_type": "code",
   "execution_count": 85,
   "metadata": {},
   "outputs": [],
   "source": [
    "rel_iter = read_umls(\n",
    "  umls_rels, \n",
    "  umls.UmlsRelation, \n",
    "  umls_filter=umls_rel_filter\n",
    ")"
   ]
  },
  {
   "cell_type": "code",
   "execution_count": 95,
   "metadata": {
    "scrolled": false
   },
   "outputs": [
    {
     "name": "stdout",
     "output_type": "stream",
     "text": [
      "Deprecated 17-Ketogenic steroids:Mass Concentration:Point in time:Whole blood:Quantitative (C2713054)\n",
      "\n",
      "measures (RO)(SCUI->SCUI)(LNC)\n",
      "\n",
      "17-Hydroxycorticosteroids (C0000163)\n",
      "  - MSH: A group of hydroxycorticosteroids bearing a hydroxy group at the 17-position. Ur\n",
      "  - MSH: inary excretion of these compounds is used as an index of adrenal function. They\n",
      "  - MSH:  are used systemically in the free alcohol form, but with esterification of the \n",
      "  - MSH: hydroxy groups, topical effectiveness is increased.\n",
      "\n",
      "===================================\n",
      "17-Ketogenic steroids^pre dose dexamethasone:MCnc:24H:Urine:Qn (C2735891)\n",
      "\n",
      "measures (RO)(SCUI->SCUI)(LNC)\n",
      "\n",
      "17-Hydroxycorticosteroids (C0000163)\n",
      "  - MSH: A group of hydroxycorticosteroids bearing a hydroxy group at the 17-position. Ur\n",
      "  - MSH: inary excretion of these compounds is used as an index of adrenal function. They\n",
      "  - MSH:  are used systemically in the free alcohol form, but with esterification of the \n",
      "  - MSH: hydroxy groups, topical effectiveness is increased.\n",
      "\n",
      "===================================\n",
      "17-Ketogenic steroids^2D post dose dexamethasone:MCnc:24H:Urine:Qn (C2735892)\n",
      "\n",
      "measures (RO)(SCUI->SCUI)(LNC)\n",
      "\n",
      "17-Hydroxycorticosteroids (C0000163)\n",
      "  - MSH: A group of hydroxycorticosteroids bearing a hydroxy group at the 17-position. Ur\n",
      "  - MSH: inary excretion of these compounds is used as an index of adrenal function. They\n",
      "  - MSH:  are used systemically in the free alcohol form, but with esterification of the \n",
      "  - MSH: hydroxy groups, topical effectiveness is increased.\n",
      "\n",
      "===================================\n",
      "17-Hydroxycorticosteroids:MCnc:Pt:Amnio fld:Qn (C0363798)\n",
      "\n",
      "measures (RO)(SCUI->SCUI)(LNC)\n",
      "\n",
      "17-Hydroxycorticosteroids (C0000163)\n",
      "  - MSH: A group of hydroxycorticosteroids bearing a hydroxy group at the 17-position. Ur\n",
      "  - MSH: inary excretion of these compounds is used as an index of adrenal function. They\n",
      "  - MSH:  are used systemically in the free alcohol form, but with esterification of the \n",
      "  - MSH: hydroxy groups, topical effectiveness is increased.\n",
      "\n",
      "===================================\n",
      "17-Hydroxycorticosteroids:MCnc:Pt:Plas:Qn (C0363799)\n",
      "\n",
      "measures (RO)(SCUI->SCUI)(LNC)\n",
      "\n",
      "17-Hydroxycorticosteroids (C0000163)\n",
      "  - MSH: A group of hydroxycorticosteroids bearing a hydroxy group at the 17-position. Ur\n",
      "  - MSH: inary excretion of these compounds is used as an index of adrenal function. They\n",
      "  - MSH:  are used systemically in the free alcohol form, but with esterification of the \n",
      "  - MSH: hydroxy groups, topical effectiveness is increased.\n",
      "\n",
      "===================================\n",
      "17-Hydroxycorticosteroids:MCnc:Pt:Urine:Qn (C0363800)\n",
      "\n",
      "measures (RO)(SCUI->SCUI)(LNC)\n",
      "\n",
      "17-Hydroxycorticosteroids (C0000163)\n",
      "  - MSH: A group of hydroxycorticosteroids bearing a hydroxy group at the 17-position. Ur\n",
      "  - MSH: inary excretion of these compounds is used as an index of adrenal function. They\n",
      "  - MSH:  are used systemically in the free alcohol form, but with esterification of the \n",
      "  - MSH: hydroxy groups, topical effectiveness is increased.\n",
      "\n",
      "===================================\n",
      "17-Hydroxycorticosteroids:MCnc:24H:Urine:Qn (C0484618)\n",
      "\n",
      "measures (RO)(SCUI->SCUI)(LNC)\n",
      "\n",
      "17-Hydroxycorticosteroids (C0000163)\n",
      "  - MSH: A group of hydroxycorticosteroids bearing a hydroxy group at the 17-position. Ur\n",
      "  - MSH: inary excretion of these compounds is used as an index of adrenal function. They\n",
      "  - MSH:  are used systemically in the free alcohol form, but with esterification of the \n",
      "  - MSH: hydroxy groups, topical effectiveness is increased.\n",
      "\n",
      "===================================\n",
      "17-Hydroxycorticosteroids:SRat:24H:Urine:Qn (C0797744)\n",
      "\n",
      "measures (RO)(SCUI->SCUI)(LNC)\n",
      "\n",
      "17-Hydroxycorticosteroids (C0000163)\n",
      "  - MSH: A group of hydroxycorticosteroids bearing a hydroxy group at the 17-position. Ur\n",
      "  - MSH: inary excretion of these compounds is used as an index of adrenal function. They\n",
      "  - MSH:  are used systemically in the free alcohol form, but with esterification of the \n",
      "  - MSH: hydroxy groups, topical effectiveness is increased.\n",
      "\n",
      "===================================\n",
      "17-Hydroxycorticosteroids:MRat:24H:Urine:Qn (C0803832)\n",
      "\n",
      "measures (RO)(SCUI->SCUI)(LNC)\n",
      "\n",
      "17-Hydroxycorticosteroids (C0000163)\n",
      "  - MSH: A group of hydroxycorticosteroids bearing a hydroxy group at the 17-position. Ur\n",
      "  - MSH: inary excretion of these compounds is used as an index of adrenal function. They\n",
      "  - MSH:  are used systemically in the free alcohol form, but with esterification of the \n",
      "  - MSH: hydroxy groups, topical effectiveness is increased.\n",
      "\n",
      "===================================\n",
      "17-Hydroxycorticosteroids:SCnc:24H:Urine:Qn (C0941912)\n",
      "\n",
      "measures (RO)(SCUI->SCUI)(LNC)\n",
      "\n",
      "17-Hydroxycorticosteroids (C0000163)\n",
      "  - MSH: A group of hydroxycorticosteroids bearing a hydroxy group at the 17-position. Ur\n",
      "  - MSH: inary excretion of these compounds is used as an index of adrenal function. They\n",
      "  - MSH:  are used systemically in the free alcohol form, but with esterification of the \n",
      "  - MSH: hydroxy groups, topical effectiveness is increased.\n",
      "\n",
      "===================================\n"
     ]
    }
   ],
   "source": [
    "rel_count = 10\n",
    "rels = list(\n",
    "  itertools.islice(\n",
    "    rel_iter, \n",
    "    rel_count\n",
    "  )\n",
    ")\n",
    "  \n",
    "for rel in rels:\n",
    "  display_rel(rel)\n",
    "  print('===================================')\n"
   ]
  },
  {
   "cell_type": "code",
   "execution_count": null,
   "metadata": {},
   "outputs": [],
   "source": []
  },
  {
   "cell_type": "code",
   "execution_count": null,
   "metadata": {},
   "outputs": [],
   "source": []
  }
 ],
 "metadata": {
  "kernelspec": {
   "display_name": "Python 3",
   "language": "python",
   "name": "python3"
  },
  "language_info": {
   "codemirror_mode": {
    "name": "ipython",
    "version": 3
   },
   "file_extension": ".py",
   "mimetype": "text/x-python",
   "name": "python",
   "nbconvert_exporter": "python",
   "pygments_lexer": "ipython3",
   "version": "3.7.4"
  }
 },
 "nbformat": 4,
 "nbformat_minor": 2
}
